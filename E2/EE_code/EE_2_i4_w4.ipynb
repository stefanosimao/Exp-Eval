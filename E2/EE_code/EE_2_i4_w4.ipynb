{
 "cells": [
  {
   "cell_type": "code",
   "execution_count": 98,
   "metadata": {},
   "outputs": [],
   "source": [
    "import tkinter as tk\n",
    "import random\n",
    "from time import perf_counter"
   ]
  },
  {
   "cell_type": "code",
   "execution_count": 99,
   "metadata": {},
   "outputs": [],
   "source": [
    "def callback1():\n",
    "    button_start.destroy()\n",
    "    label_1.destroy()\n",
    "    \n",
    "    label_2 = tk.Label(window,font=(None, 25), text = \"Read this phrase:\",bg=\"#82E0AA\")\n",
    "    label_2.pack(pady=30)\n",
    "    \n",
    "    label_example = tk.Label(window,font=(None, 25), text = \"just one more thing\", bg=\"#e08b82\", borderwidth=3, relief=\"solid\")\n",
    "    label_example.pack(pady=40, padx=100)\n",
    "    \n",
    "    button_start2 = tk.Button(window, text=\"Start the test\", width=15, height=3, command = callback2)\n",
    "    button_start2.pack(pady=200)"
   ]
  },
  {
   "cell_type": "code",
   "execution_count": 100,
   "metadata": {},
   "outputs": [],
   "source": [
    "def callback2():\n",
    "    window.destroy()\n",
    "    window2 = tk.Tk()\n",
    "    window2.title(\"camelCase vs kebab-case\")\n",
    "    window2.geometry(\"2000x800\")\n",
    "    window2.state('zoomed')\n",
    "    window2.configure(bg=\"#82E0AA\")\n",
    "    \n",
    "    #names = [\"just-one-more-thing\",\"just-one-move-thing\", \"just-one-more-thang\", \"just-ome-more-thing\"]\n",
    "    names = [\"justOneMoreThing\",\"justOneMoveThing\", \"justOneMoreThang\", \"justOmeMoreThing\"]\n",
    "    \n",
    "    label_2 = tk.Label(window2,font=(None, 25), text = \"Read this phrase: just one more thing\",bg=\"#82E0AA\")\n",
    "    label_2.pack(pady=30)    \n",
    "    \n",
    "    name1 = random.sample(names, 1)\n",
    "    name2 = random.sample(names, 1)\n",
    "    name3 = random.sample(names, 1)\n",
    "    name4 = random.sample(names, 1)\n",
    "    \n",
    "    while name2 == name1:\n",
    "        name2 = random.sample(names, 1)\n",
    "    \n",
    "    while name3 == name1 or name2 == name3 :\n",
    "        name3 = random.sample(names, 1)\n",
    "    \n",
    "    while name4 == name1 or name4 == name2 or name4 == name3 :\n",
    "        name4 = random.sample(names, 1)\n",
    "        \n",
    "    t1_start = perf_counter()\n",
    "    \n",
    "    first = tk.Button(window2,font=(None, 35), text = name1,bg=\"#e08b82\", borderwidth=3, relief=\"solid\", command = lambda: callback3(name1, t1_start))\n",
    "    first.place(relx = 0.55, rely = 0.3)\n",
    "    \n",
    "    second = tk.Button(window2,font=(None, 35), text = name2,bg=\"#e08b82\", borderwidth=3, relief=\"solid\", command = lambda: callback3(name2, t1_start))\n",
    "    second.place(relx = 0.25, rely = 0.55)\n",
    "    \n",
    "    third = tk.Button(window2,font=(None, 35), text = name3,bg=\"#e08b82\", borderwidth=3, relief=\"solid\", command = lambda: callback3(name3, t1_start))\n",
    "    third.place(relx = 0.20, rely = 0.35)\n",
    "    \n",
    "    fourth = tk.Button(window2,font=(None, 35), text = name4,bg=\"#e08b82\", borderwidth=3, relief=\"solid\", command = lambda: callback3(name4, t1_start))\n",
    "    fourth.place(relx = 0.60, rely = 0.5)"
   ]
  },
  {
   "cell_type": "code",
   "execution_count": 101,
   "metadata": {},
   "outputs": [],
   "source": [
    "def callback3(text, time):\n",
    "    t1_stop = perf_counter()\n",
    "    print(\"Elapsed time:\", t1_stop-time, 's') \n",
    "    if text == [\"justOneMoreThing\"]:\n",
    "    #if text == [\"just-one-more-thing\"]:\n",
    "        correct = tk.Toplevel()\n",
    "        correct.title(\"camelCase vs kebab-case\")\n",
    "        correct.geometry(\"300x100\")\n",
    "        correct.configure(bg=\"#82E0AA\")\n",
    "        label_correct = tk.Label(correct,font=(None, 25), text = \"CORRECT!\",bg=\"#82E0AA\")\n",
    "        label_correct.pack(pady=30)\n",
    "    else:\n",
    "        not_correct = tk.Toplevel()\n",
    "        not_correct.title(\"camelCase vs kebab-case\")\n",
    "        not_correct.geometry(\"300x100\")\n",
    "        not_correct.configure(bg=\"#82E0AA\")\n",
    "        label_not_correct = tk.Label(not_correct,font=(None, 25), text = \"NOT CORRECT!\",bg=\"#82E0AA\")\n",
    "        label_not_correct.pack(pady=30)        \n"
   ]
  },
  {
   "cell_type": "code",
   "execution_count": 102,
   "metadata": {},
   "outputs": [
    {
     "name": "stdout",
     "output_type": "stream",
     "text": [
      "Elapsed time: 6.201014100000975 s\n"
     ]
    }
   ],
   "source": [
    "window = tk.Tk()\n",
    "window.title(\"camelCase vs kebab-case\")\n",
    "window.geometry(\"2000x800\")\n",
    "window.state('zoomed')\n",
    "window.configure(bg=\"#82E0AA\")\n",
    "\n",
    "label_1 = tk.Label(window,font=(None, 25), text = \"Welcome to the Experiment\",bg=\"#82E0AA\")\n",
    "label_1.pack(pady=30)\n",
    "\n",
    "button_start = tk.Button(window, text=\"Start\", width=15, height=3, command = callback1)\n",
    "button_start.pack(pady=320)\n",
    "\n",
    "window.mainloop()"
   ]
  },
  {
   "cell_type": "code",
   "execution_count": null,
   "metadata": {},
   "outputs": [],
   "source": []
  },
  {
   "cell_type": "code",
   "execution_count": null,
   "metadata": {},
   "outputs": [],
   "source": []
  },
  {
   "cell_type": "code",
   "execution_count": null,
   "metadata": {},
   "outputs": [],
   "source": []
  }
 ],
 "metadata": {
  "kernelspec": {
   "display_name": "Python 3",
   "language": "python",
   "name": "python3"
  },
  "language_info": {
   "codemirror_mode": {
    "name": "ipython",
    "version": 3
   },
   "file_extension": ".py",
   "mimetype": "text/x-python",
   "name": "python",
   "nbconvert_exporter": "python",
   "pygments_lexer": "ipython3",
   "version": "3.7.6"
  }
 },
 "nbformat": 4,
 "nbformat_minor": 4
}
